{
 "cells": [
  {
   "cell_type": "code",
   "execution_count": null,
   "id": "1f2350ed",
   "metadata": {},
   "outputs": [],
   "source": [
    "import os\n",
    "print(\"Current Directory:\", os.getcwd())\n",
    "print(os.listdir(\"C:/Users/Nurmukanov_Zhandos/Desktop/Coding Project\"))\n",
    "os.chdir(r\"C:\\Users\\Nurmukanov_Zhandos\\Desktop\\Coding Project\")\n",
    "import pandas as pd\n",
    "data = pd.read_csv(r\"C:\\Users\\Nurmukanov_Zhandos\\Desktop\\Coding Project\\airbnb_london_listing.csv\")"
   ]
  },
  {
   "cell_type": "code",
   "execution_count": null,
   "id": "9efbb200",
   "metadata": {},
   "outputs": [],
   "source": [
    "columns_to_normalize = ['bathrooms', 'bedrooms','beds']    \n",
    "for column in columns_to_normalize:\n",
    "    min_val = data[column].min()\n",
    "    max_val = data[column].max()\n",
    "    data[column] = (data[column] - min_val) / (max_val - min_val)\n",
    "print(\"Normalized DataFrame:\")\n",
    "print(data)"
   ]
  },
  {
   "cell_type": "code",
   "execution_count": null,
   "id": "e67200bd",
   "metadata": {},
   "outputs": [],
   "source": [
    "avg_bedrooms = data['bedrooms'].mean()\n",
    "avg_bathrooms = data['bathrooms'].mean()\n",
    "avg_beds = data['beds'].mean()\n",
    "summary_stats = {\n",
    "    'Metric': ['Mean', 'Median', 'Standard Deviation'],\n",
    "    'Average Bedrooms': [data['bedrooms'].mean(), data['bedrooms'].median(), data['bedrooms'].std()],\n",
    "    'Average Bathrooms': [data['bathrooms'].mean(), data['bathrooms'].median(), data['bathrooms'].std()],\n",
    "    'Average Beds': [data['beds'].mean(), data['beds'].median(), data['beds'].std()]\n",
    "}\n",
    "summary_table = pd.DataFrame(summary_stats)\n",
    "print(\"Summary Statistics Table:\")\n",
    "print(summary_table)"
   ]
  },
  {
   "cell_type": "code",
   "execution_count": null,
   "id": "86f1751e",
   "metadata": {},
   "outputs": [],
   "source": [
    "import matplotlib.pyplot as plt\n",
    "import seaborn as sns\n",
    "import pandas as pd\n",
    "sns.set(style=\"whitegrid\")\n",
    "plt.figure(figsize=(10, 6))\n",
    "sns.histplot(data['bedrooms'], bins=30, kde=True, color='skyblue')\n"
   ]
  },
  {
   "cell_type": "code",
   "execution_count": null,
   "id": "3b0e2d8c",
   "metadata": {},
   "outputs": [],
   "source": [
    "import numpy as np\n",
    "missing_values = data.isnull().sum()\n",
    "print(\"Missing values in each column:\")\n",
    "print(missing_values[missing_values>0])\n",
    "print(\"Data types:\")\n",
    "print(data.dtypes)"
   ]
  },
  {
   "cell_type": "code",
   "execution_count": null,
   "id": "2b2e7bc9",
   "metadata": {},
   "outputs": [],
   "source": [
    "data1 = pd.DataFrame({\n",
    "    'bedrooms': ['0', '1', '2', '3', '4', '5', '6', '7', '8', '9', '10']\n",
    "})\n",
    "data1 ['bedrooms'] = pd.to_numeric(data1['bedrooms'])\n",
    "print(data1)\n",
    "print(data1.dtypes)"
   ]
  },
  {
   "cell_type": "code",
   "execution_count": null,
   "id": "57a672f5",
   "metadata": {},
   "outputs": [],
   "source": [
    "filtered_data1 = data[(data['availability_365'] >= 180)]\n",
    "print(\"Filtered data by number of beds:\")\n",
    "print(filtered_data1.head())"
   ]
  },
  {
   "cell_type": "code",
   "execution_count": null,
   "id": "077e0fe5",
   "metadata": {},
   "outputs": [],
   "source": [
    "hashtags = []\n",
    "price_threshold_low = 100\n",
    "price_threshold_high = 500\n",
    "for index, row in data.iterrows():\n",
    "    listing_hashtags = []  # Initialize empty list for each listing\n",
    "    if row['host_is_superhost'] == 't':\n",
    "        listing_hashtags.append(\"#Superhost\")\n",
    "    if \"pet\" in str(row['amenities']).lower():\n",
    "        listing_hashtags.append(\"#PetFriendly\")\n",
    "    if row['room_type'] == \"Entire home/apt\":\n",
    "        listing_hashtags.append(\"#EntirePlace\")\n",
    "    if pd.notnull(row['review_scores_location']) and row['review_scores_location'] >= 9:\n",
    "        listing_hashtags.append(\"#GreatLocation\")\n",
    "    hashtags.append(\", \".join(listing_hashtags))\n",
    "data['hashtags'] = hashtags"
   ]
  },
  {
   "cell_type": "code",
   "execution_count": null,
   "id": "eafc5542",
   "metadata": {},
   "outputs": [],
   "source": [
    "data['hashtags'].tail()"
   ]
  },
  {
   "cell_type": "code",
   "execution_count": null,
   "id": "7cacae31",
   "metadata": {},
   "outputs": [],
   "source": []
  }
 ],
 "metadata": {
  "kernelspec": {
   "display_name": "Python 3 (ipykernel)",
   "language": "python",
   "name": "python3"
  },
  "language_info": {
   "codemirror_mode": {
    "name": "ipython",
    "version": 3
   },
   "file_extension": ".py",
   "mimetype": "text/x-python",
   "name": "python",
   "nbconvert_exporter": "python",
   "pygments_lexer": "ipython3",
   "version": "3.9.12"
  }
 },
 "nbformat": 4,
 "nbformat_minor": 5
}
